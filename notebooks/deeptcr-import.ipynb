{
 "cells": [
  {
   "cell_type": "code",
   "execution_count": 2,
   "metadata": {},
   "outputs": [],
   "source": [
    "import pandas as pd\n",
    "import numpy as np\n",
    "from glob import glob"
   ]
  },
  {
   "cell_type": "code",
   "execution_count": 3,
   "metadata": {},
   "outputs": [],
   "source": [
    "DEEP_TCR_PATH = \"/Users/vdn/Projects/DeepTCR/\""
   ]
  },
  {
   "cell_type": "code",
   "execution_count": 44,
   "metadata": {},
   "outputs": [
    {
     "name": "stdout",
     "output_type": "stream",
     "text": [
      "A1-VTEHDTLLY\n",
      "\t /Users/vdn/Projects/DeepTCR//Data/Human_Antigens/A1-VTEHDTLLY/A1-VTEHDTLLY.tsv\n",
      "A2-GLCTLVAML\n",
      "\t /Users/vdn/Projects/DeepTCR//Data/Human_Antigens/A2-GLCTLVAML/A2-GLCTLVAML-Glanville.tsv\n",
      "\t /Users/vdn/Projects/DeepTCR//Data/Human_Antigens/A2-GLCTLVAML/A2-GLCTLVAML-Dash.tsv\n",
      "A2-GILGFVFTL\n",
      "\t /Users/vdn/Projects/DeepTCR//Data/Human_Antigens/A2-GILGFVFTL/A2-GILGFVFTL-Dash.tsv\n",
      "\t /Users/vdn/Projects/DeepTCR//Data/Human_Antigens/A2-GILGFVFTL/A2-GILGFVFTL_Glanville.tsv\n",
      "A2-NLVPMVATV\n",
      "\t /Users/vdn/Projects/DeepTCR//Data/Human_Antigens/A2-NLVPMVATV/A2-NLVPMVATV-Glanville.tsv\n",
      "\t /Users/vdn/Projects/DeepTCR//Data/Human_Antigens/A2-NLVPMVATV/A2-NLVPMVATV-Dash.tsv\n",
      "B7-TPRVTGGGAM\n",
      "\t /Users/vdn/Projects/DeepTCR//Data/Human_Antigens/B7-TPRVTGGGAM/B7-TPRVTGGGAM.tsv\n",
      "B7-LPRRSGAAGA\n",
      "\t /Users/vdn/Projects/DeepTCR//Data/Human_Antigens/B7-LPRRSGAAGA/B7-LPRRSGAAGA.tsv\n",
      "A1-CTELKLSDY\n",
      "\t /Users/vdn/Projects/DeepTCR//Data/Human_Antigens/A1-CTELKLSDY/A1-CTELKLSDY.tsv\n"
     ]
    }
   ],
   "source": [
    "aa_col_id = 0\n",
    "result_df = pd.DataFrame()\n",
    "for antigen_class_folder in glob(DEEP_TCR_PATH + \"/Data/Human_Antigens/*\"):\n",
    "#     print(antigen_class_folder)\n",
    "    antigen_class = antigen_class_folder[antigen_class_folder.rfind(\"/\")+1:]\n",
    "    print(antigen_class)\n",
    "    \n",
    "    temp_df = pd.DataFrame()\n",
    "    for dataset in glob(antigen_class_folder + \"/*\"):\n",
    "        print(\"\\t\", dataset)\n",
    "        df = pd.read_table(dataset).iloc[:, [aa_col_id]]\n",
    "        df.columns = [\"TRB\"]\n",
    "        temp_df = pd.concat([temp_df, df])\n",
    "    temp_df = temp_df[~temp_df.duplicated()]\n",
    "    temp_df[antigen_class] = 1\n",
    "        \n",
    "    if not len(result_df):\n",
    "        result_df = temp_df\n",
    "    else:\n",
    "        result_df = pd.merge(result_df, temp_df, how=\"outer\", on=\"TRB\")\n",
    "            \n",
    "result_df.fillna(0, inplace=True)\n",
    "len(result_df[\"TRB\"].unique())\n",
    "\n",
    "result_df.to_csv(\"../data/train_human_antigens.data\")"
   ]
  },
  {
   "cell_type": "code",
   "execution_count": 45,
   "metadata": {},
   "outputs": [
    {
     "name": "stdout",
     "output_type": "stream",
     "text": [
      "Db-F2\n",
      "\t /Users/vdn/Projects/DeepTCR//Data/Murine_Antigens/Db-F2/Db-F2.tsv\n",
      "Kb-m139\n",
      "\t /Users/vdn/Projects/DeepTCR//Data/Murine_Antigens/Kb-m139/Kb-m139.tsv\n",
      "Kb-SIY\n",
      "\t /Users/vdn/Projects/DeepTCR//Data/Murine_Antigens/Kb-SIY/Kb-4_Sp_T_SIYI.tsv\n",
      "\t /Users/vdn/Projects/DeepTCR//Data/Murine_Antigens/Kb-SIY/Kb-6_dLN_SIY.tsv\n",
      "\t /Users/vdn/Projects/DeepTCR//Data/Murine_Antigens/Kb-SIY/Kb-1_Sp_Con_SIY.tsv\n",
      "\t /Users/vdn/Projects/DeepTCR//Data/Murine_Antigens/Kb-SIY/Kb-5_TILS_SIY.tsv\n",
      "Kb-TRP2\n",
      "\t /Users/vdn/Projects/DeepTCR//Data/Murine_Antigens/Kb-TRP2/Kb-2_Sp_Con_TRP2.tsv\n",
      "\t /Users/vdn/Projects/DeepTCR//Data/Murine_Antigens/Kb-TRP2/Kb-7_dLN_TRP2.tsv\n",
      "\t /Users/vdn/Projects/DeepTCR//Data/Murine_Antigens/Kb-TRP2/Kb-3_Sp_T_TRP2.tsv\n",
      "Kb-M38\n",
      "\t /Users/vdn/Projects/DeepTCR//Data/Murine_Antigens/Kb-M38/Kb-M38.tsv\n",
      "Db-M45\n",
      "\t /Users/vdn/Projects/DeepTCR//Data/Murine_Antigens/Db-M45/Db-M45.tsv\n",
      "Db-PA\n",
      "\t /Users/vdn/Projects/DeepTCR//Data/Murine_Antigens/Db-PA/Db-PA.tsv\n",
      "Db-PB1\n",
      "\t /Users/vdn/Projects/DeepTCR//Data/Murine_Antigens/Db-PB1/Db-PB1.tsv\n",
      "Db-NP\n",
      "\t /Users/vdn/Projects/DeepTCR//Data/Murine_Antigens/Db-NP/Db-NP.tsv\n"
     ]
    }
   ],
   "source": [
    "aa_col_id = 0\n",
    "result_df = pd.DataFrame()\n",
    "for antigen_class_folder in glob(DEEP_TCR_PATH + \"/Data/Murine_Antigens/*\"):\n",
    "#     print(antigen_class_folder)\n",
    "    antigen_class = antigen_class_folder[antigen_class_folder.rfind(\"/\")+1:]\n",
    "    print(antigen_class)\n",
    "    \n",
    "    temp_df = pd.DataFrame()\n",
    "    for dataset in glob(antigen_class_folder + \"/*\"):\n",
    "        print(\"\\t\", dataset)\n",
    "        df = pd.read_table(dataset).iloc[:, [aa_col_id]]\n",
    "        df.columns = [\"TRB\"]\n",
    "        temp_df = pd.concat([temp_df, df])\n",
    "    temp_df = temp_df[~temp_df.duplicated()]\n",
    "    temp_df[antigen_class] = 1\n",
    "        \n",
    "    if not len(result_df):\n",
    "        result_df = temp_df\n",
    "    else:\n",
    "        result_df = pd.merge(result_df, temp_df, how=\"outer\", on=\"TRB\")\n",
    "            \n",
    "result_df.fillna(0, inplace=True)\n",
    "len(result_df[\"TRB\"].unique())\n",
    "\n",
    "result_df.to_csv(\"../data/train_murine_antigens.data\")"
   ]
  }
 ],
 "metadata": {
  "kernelspec": {
   "display_name": "Python 3",
   "language": "python",
   "name": "python3"
  },
  "language_info": {
   "codemirror_mode": {
    "name": "ipython",
    "version": 3
   },
   "file_extension": ".py",
   "mimetype": "text/x-python",
   "name": "python",
   "nbconvert_exporter": "python",
   "pygments_lexer": "ipython3",
   "version": "3.7.5"
  }
 },
 "nbformat": 4,
 "nbformat_minor": 4
}
