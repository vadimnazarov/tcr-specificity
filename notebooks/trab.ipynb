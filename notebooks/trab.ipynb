{
 "cells": [
  {
   "cell_type": "code",
   "execution_count": 1,
   "metadata": {},
   "outputs": [],
   "source": [
    "%matplotlib inline\n",
    "\n",
    "import Levenshtein as L\n",
    "import umap\n",
    "import pandas as pd\n",
    "import numpy as np\n",
    "import networkx as nx\n",
    "\n",
    "from matplotlib import pyplot as plt\n",
    "from collections import Counter"
   ]
  },
  {
   "cell_type": "code",
   "execution_count": 28,
   "metadata": {},
   "outputs": [],
   "source": [
    "import torchvision"
   ]
  },
  {
   "cell_type": "code",
   "execution_count": 34,
   "metadata": {},
   "outputs": [
    {
     "data": {
      "text/plain": [
       "'/miniconda3/lib/python3.7/site-packages/torchvision/__init__.py'"
      ]
     },
     "execution_count": 34,
     "metadata": {},
     "output_type": "execute_result"
    }
   ],
   "source": [
    "torchvision.__file__"
   ]
  },
  {
   "cell_type": "code",
   "execution_count": 19,
   "metadata": {},
   "outputs": [
    {
     "data": {
      "text/html": [
       "<div>\n",
       "<style scoped>\n",
       "    .dataframe tbody tr th:only-of-type {\n",
       "        vertical-align: middle;\n",
       "    }\n",
       "\n",
       "    .dataframe tbody tr th {\n",
       "        vertical-align: top;\n",
       "    }\n",
       "\n",
       "    .dataframe thead th {\n",
       "        text-align: right;\n",
       "    }\n",
       "</style>\n",
       "<table border=\"1\" class=\"dataframe\">\n",
       "  <thead>\n",
       "    <tr style=\"text-align: right;\">\n",
       "      <th></th>\n",
       "      <th>index</th>\n",
       "      <th>donor</th>\n",
       "      <th>cell_clono_cdr3_aa</th>\n",
       "      <th>TRA</th>\n",
       "      <th>TRB</th>\n",
       "      <th>VTEHDTLLY-IE-1-CMV</th>\n",
       "      <th>KTWGQYWQV-gp100-Cancer</th>\n",
       "      <th>ELAGIGILTV-MART-1-Cancer</th>\n",
       "      <th>CLLWSFQTSA-Tyrosinase-Cancer</th>\n",
       "      <th>IMDQVPFSV-gp100-Cancer</th>\n",
       "      <th>...</th>\n",
       "      <th>RPHERNGFTVL-pp65-CMV</th>\n",
       "      <th>RAKFKQLL-BZLF1-EBV</th>\n",
       "      <th>ELRRKMMYM-IE-1-CMV</th>\n",
       "      <th>FLRGRAYGL-EBNA-3A-EBV</th>\n",
       "      <th>SLEGGGLGY-NC</th>\n",
       "      <th>STEGGGLAY-NC</th>\n",
       "      <th>ALIAPVHAV-NC</th>\n",
       "      <th>AYSSAGASI-NC</th>\n",
       "      <th>GPAESAAGL-NC</th>\n",
       "      <th>AAKGRGAAL-NC</th>\n",
       "    </tr>\n",
       "  </thead>\n",
       "  <tbody>\n",
       "    <tr>\n",
       "      <th>0</th>\n",
       "      <td>AAACCTGAGAGGGATA-8</td>\n",
       "      <td>donor1</td>\n",
       "      <td>TRA:CAASGYGNTGRRALTF;TRB:CASSQDPAGGYNEQFF</td>\n",
       "      <td>CAASGYGNTGRRALTF</td>\n",
       "      <td>CASSQDPAGGYNEQFF</td>\n",
       "      <td>0</td>\n",
       "      <td>0</td>\n",
       "      <td>0</td>\n",
       "      <td>0</td>\n",
       "      <td>0</td>\n",
       "      <td>...</td>\n",
       "      <td>0</td>\n",
       "      <td>0</td>\n",
       "      <td>0</td>\n",
       "      <td>0</td>\n",
       "      <td>0</td>\n",
       "      <td>0</td>\n",
       "      <td>0</td>\n",
       "      <td>0</td>\n",
       "      <td>0</td>\n",
       "      <td>0</td>\n",
       "    </tr>\n",
       "    <tr>\n",
       "      <th>1</th>\n",
       "      <td>AAACCTGAGAGTGAGA-23</td>\n",
       "      <td>donor1</td>\n",
       "      <td>TRA:CAAHLSNFGNEKLTF;TRB:CATSRDRGHGDTIYF</td>\n",
       "      <td>CAAHLSNFGNEKLTF</td>\n",
       "      <td>CATSRDRGHGDTIYF</td>\n",
       "      <td>0</td>\n",
       "      <td>0</td>\n",
       "      <td>0</td>\n",
       "      <td>0</td>\n",
       "      <td>0</td>\n",
       "      <td>...</td>\n",
       "      <td>0</td>\n",
       "      <td>0</td>\n",
       "      <td>0</td>\n",
       "      <td>0</td>\n",
       "      <td>0</td>\n",
       "      <td>0</td>\n",
       "      <td>0</td>\n",
       "      <td>0</td>\n",
       "      <td>0</td>\n",
       "      <td>0</td>\n",
       "    </tr>\n",
       "    <tr>\n",
       "      <th>2</th>\n",
       "      <td>AAACCTGAGATCCTGT-25</td>\n",
       "      <td>donor1</td>\n",
       "      <td>TRA:CASGGSNYKLTF;TRB:CASAVGLTYNEQFF</td>\n",
       "      <td>CASGGSNYKLTF</td>\n",
       "      <td>CASAVGLTYNEQFF</td>\n",
       "      <td>0</td>\n",
       "      <td>1</td>\n",
       "      <td>0</td>\n",
       "      <td>0</td>\n",
       "      <td>0</td>\n",
       "      <td>...</td>\n",
       "      <td>1</td>\n",
       "      <td>1</td>\n",
       "      <td>1</td>\n",
       "      <td>1</td>\n",
       "      <td>1</td>\n",
       "      <td>1</td>\n",
       "      <td>1</td>\n",
       "      <td>1</td>\n",
       "      <td>1</td>\n",
       "      <td>1</td>\n",
       "    </tr>\n",
       "    <tr>\n",
       "      <th>3</th>\n",
       "      <td>AAACCTGAGATCTGAA-26</td>\n",
       "      <td>donor1</td>\n",
       "      <td>TRA:CAEGGNTGKLIF;TRB:CASSPGGLAGADTQYF</td>\n",
       "      <td>CAEGGNTGKLIF</td>\n",
       "      <td>CASSPGGLAGADTQYF</td>\n",
       "      <td>0</td>\n",
       "      <td>0</td>\n",
       "      <td>0</td>\n",
       "      <td>0</td>\n",
       "      <td>0</td>\n",
       "      <td>...</td>\n",
       "      <td>0</td>\n",
       "      <td>0</td>\n",
       "      <td>0</td>\n",
       "      <td>0</td>\n",
       "      <td>0</td>\n",
       "      <td>0</td>\n",
       "      <td>0</td>\n",
       "      <td>0</td>\n",
       "      <td>0</td>\n",
       "      <td>0</td>\n",
       "    </tr>\n",
       "    <tr>\n",
       "      <th>4</th>\n",
       "      <td>AAACCTGAGCGATTCT-39</td>\n",
       "      <td>donor1</td>\n",
       "      <td>TRA:CAVREDTGGFKTIF;TRB:CSARDPVLRQGRYEQYF</td>\n",
       "      <td>CAVREDTGGFKTIF</td>\n",
       "      <td>CSARDPVLRQGRYEQYF</td>\n",
       "      <td>0</td>\n",
       "      <td>0</td>\n",
       "      <td>0</td>\n",
       "      <td>0</td>\n",
       "      <td>0</td>\n",
       "      <td>...</td>\n",
       "      <td>0</td>\n",
       "      <td>0</td>\n",
       "      <td>0</td>\n",
       "      <td>0</td>\n",
       "      <td>0</td>\n",
       "      <td>0</td>\n",
       "      <td>0</td>\n",
       "      <td>0</td>\n",
       "      <td>0</td>\n",
       "      <td>0</td>\n",
       "    </tr>\n",
       "  </tbody>\n",
       "</table>\n",
       "<p>5 rows × 55 columns</p>\n",
       "</div>"
      ],
      "text/plain": [
       "                 index   donor                         cell_clono_cdr3_aa  \\\n",
       "0   AAACCTGAGAGGGATA-8  donor1  TRA:CAASGYGNTGRRALTF;TRB:CASSQDPAGGYNEQFF   \n",
       "1  AAACCTGAGAGTGAGA-23  donor1    TRA:CAAHLSNFGNEKLTF;TRB:CATSRDRGHGDTIYF   \n",
       "2  AAACCTGAGATCCTGT-25  donor1        TRA:CASGGSNYKLTF;TRB:CASAVGLTYNEQFF   \n",
       "3  AAACCTGAGATCTGAA-26  donor1      TRA:CAEGGNTGKLIF;TRB:CASSPGGLAGADTQYF   \n",
       "4  AAACCTGAGCGATTCT-39  donor1   TRA:CAVREDTGGFKTIF;TRB:CSARDPVLRQGRYEQYF   \n",
       "\n",
       "                TRA                TRB  VTEHDTLLY-IE-1-CMV  \\\n",
       "0  CAASGYGNTGRRALTF   CASSQDPAGGYNEQFF                   0   \n",
       "1   CAAHLSNFGNEKLTF    CATSRDRGHGDTIYF                   0   \n",
       "2      CASGGSNYKLTF     CASAVGLTYNEQFF                   0   \n",
       "3      CAEGGNTGKLIF   CASSPGGLAGADTQYF                   0   \n",
       "4    CAVREDTGGFKTIF  CSARDPVLRQGRYEQYF                   0   \n",
       "\n",
       "   KTWGQYWQV-gp100-Cancer  ELAGIGILTV-MART-1-Cancer  \\\n",
       "0                       0                         0   \n",
       "1                       0                         0   \n",
       "2                       1                         0   \n",
       "3                       0                         0   \n",
       "4                       0                         0   \n",
       "\n",
       "   CLLWSFQTSA-Tyrosinase-Cancer  IMDQVPFSV-gp100-Cancer  ...  \\\n",
       "0                             0                       0  ...   \n",
       "1                             0                       0  ...   \n",
       "2                             0                       0  ...   \n",
       "3                             0                       0  ...   \n",
       "4                             0                       0  ...   \n",
       "\n",
       "   RPHERNGFTVL-pp65-CMV  RAKFKQLL-BZLF1-EBV  ELRRKMMYM-IE-1-CMV  \\\n",
       "0                     0                   0                   0   \n",
       "1                     0                   0                   0   \n",
       "2                     1                   1                   1   \n",
       "3                     0                   0                   0   \n",
       "4                     0                   0                   0   \n",
       "\n",
       "   FLRGRAYGL-EBNA-3A-EBV  SLEGGGLGY-NC  STEGGGLAY-NC  ALIAPVHAV-NC  \\\n",
       "0                      0             0             0             0   \n",
       "1                      0             0             0             0   \n",
       "2                      1             1             1             1   \n",
       "3                      0             0             0             0   \n",
       "4                      0             0             0             0   \n",
       "\n",
       "   AYSSAGASI-NC  GPAESAAGL-NC  AAKGRGAAL-NC  \n",
       "0             0             0             0  \n",
       "1             0             0             0  \n",
       "2             1             1             1  \n",
       "3             0             0             0  \n",
       "4             0             0             0  \n",
       "\n",
       "[5 rows x 55 columns]"
      ]
     },
     "execution_count": 19,
     "metadata": {},
     "output_type": "execute_result"
    }
   ],
   "source": [
    "df = pd.read_csv('../data/train_multilabel.data')\n",
    "df.head()"
   ]
  },
  {
   "cell_type": "code",
   "execution_count": 20,
   "metadata": {},
   "outputs": [
    {
     "name": "stdout",
     "output_type": "stream",
     "text": [
      "492\n",
      "422\n",
      "908\n"
     ]
    }
   ],
   "source": [
    "logic1 = (df[\"TRA\"].str.len() >= 9) & (df[\"TRA\"].str.len() <= 19)\n",
    "print(len(logic1) - logic1.sum())\n",
    "logic2 = (df[\"TRB\"].str.len() >= 9) & (df[\"TRB\"].str.len() <= 19)\n",
    "print(len(logic2) - logic2.sum())\n",
    "logic3 = logic1 & logic2\n",
    "print(len(logic3) - logic3.sum())"
   ]
  },
  {
   "cell_type": "code",
   "execution_count": 21,
   "metadata": {},
   "outputs": [],
   "source": [
    "df = df[logic3].reset_index(drop=True)"
   ]
  },
  {
   "cell_type": "code",
   "execution_count": 25,
   "metadata": {},
   "outputs": [
    {
     "data": {
      "text/plain": [
       "0        AASGYGNTGRRALTCASSQDPAGGYNEQF\n",
       "1          AAHLSNFGNEKLTCATSRDRGHGDTIY\n",
       "2              ASGGSNYKLTCASAVGLTYNEQF\n",
       "3            AEGGNTGKLICASSPGGLAGADTQY\n",
       "4         AVREDTGGFKTICSARDPVLRQGRYEQY\n",
       "                     ...              \n",
       "41009        ALSTRTGANNLFCASSLGVGNQPQH\n",
       "41010             AGEGLNDMRCASSLDSYGYT\n",
       "41011      AMRGLEGGGNKLTCASSQDRGFGETQY\n",
       "41012         AVRDLMDTGRRALTCSATGQETQY\n",
       "41013      AFGLYSGAGSYQLTCASSHGSFPYEQY\n",
       "Length: 41014, dtype: object"
      ]
     },
     "execution_count": 25,
     "metadata": {},
     "output_type": "execute_result"
    }
   ],
   "source": [
    "df[\"TRA\"].str.slice(1,-1) + df[\"TRB\"].str.slice(0,-1)"
   ]
  },
  {
   "cell_type": "code",
   "execution_count": 26,
   "metadata": {},
   "outputs": [],
   "source": [
    "df[\"TRAB\"] = df[\"TRA\"].str.slice(1,-1) + df[\"TRB\"].str.slice(0,-1)"
   ]
  },
  {
   "cell_type": "code",
   "execution_count": 27,
   "metadata": {},
   "outputs": [],
   "source": [
    "df.to_csv('../data/train_multilabel_ab.data')"
   ]
  }
 ],
 "metadata": {
  "kernelspec": {
   "display_name": "Python 3",
   "language": "python",
   "name": "python3"
  },
  "language_info": {
   "codemirror_mode": {
    "name": "ipython",
    "version": 3
   },
   "file_extension": ".py",
   "mimetype": "text/x-python",
   "name": "python",
   "nbconvert_exporter": "python",
   "pygments_lexer": "ipython3",
   "version": "3.7.5"
  }
 },
 "nbformat": 4,
 "nbformat_minor": 4
}
